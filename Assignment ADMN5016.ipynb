{
 "cells": [
  {
   "cell_type": "code",
   "execution_count": 1,
   "id": "d5597edd",
   "metadata": {},
   "outputs": [],
   "source": [
    "import pandas as pd\n",
    "import numpy as np\n",
    "import matplotlib.pyplot as plt\n",
    "import seaborn as sns\n",
    "from sklearn.preprocessing import StandardScaler\n",
    "from sklearn.model_selection import train_test_split\n",
    "from sklearn.linear_model import LinearRegression\n",
    "from sklearn.ensemble import RandomForestRegressor\n",
    "from sklearn.svm import SVR\n",
    "from sklearn.metrics import r2_score\n",
    "from sklearn.cluster import KMeans, DBSCAN, AgglomerativeClustering\n",
    "from sklearn.ensemble import RandomForestClassifier\n",
    "from sklearn.pipeline import Pipeline\n",
    "from sklearn.impute import SimpleImputer\n",
    "from sklearn.compose import ColumnTransformer\n",
    "from sklearn.decomposition import KernelPCA, PCA, TruncatedSVD\n",
    "from sklearn.metrics import classification_report, confusion_matrix\n",
    "from sklearn.model_selection import cross_val_score\n",
    "from sklearn.mixture import GaussianMixture\n",
    "from sklearn.metrics import silhouette_score, silhouette_samples, calinski_harabasz_score\n",
    "import math\n",
    "from sklearn.model_selection import GridSearchCV, StratifiedKFold\n",
    "from datetime import datetime\n",
    "import scipy.cluster.hierarchy as sch\n",
    "from sklearn.preprocessing import RobustScaler\n",
    "%matplotlib inline"
   ]
  },
  {
   "cell_type": "markdown",
   "id": "6a7be005",
   "metadata": {},
   "source": [
    "# Uploading Dataset"
   ]
  },
  {
   "cell_type": "code",
   "execution_count": 2,
   "id": "911ca9fc",
   "metadata": {},
   "outputs": [],
   "source": [
    "# Load the data from desktop\n",
    "insurance = pd.read_csv('C:/Users/Admin/Desktop/insurance/Assignment ADMN5016_Dataset.csv')"
   ]
  },
  {
   "cell_type": "code",
   "execution_count": 3,
   "id": "facdd2c0",
   "metadata": {},
   "outputs": [
    {
     "data": {
      "text/plain": [
       "(1338, 7)"
      ]
     },
     "execution_count": 3,
     "metadata": {},
     "output_type": "execute_result"
    }
   ],
   "source": [
    "#Number of rows and Column\n",
    "insurance.shape"
   ]
  },
  {
   "cell_type": "code",
   "execution_count": 4,
   "id": "20d78f35",
   "metadata": {},
   "outputs": [
    {
     "data": {
      "text/html": [
       "<div>\n",
       "<style scoped>\n",
       "    .dataframe tbody tr th:only-of-type {\n",
       "        vertical-align: middle;\n",
       "    }\n",
       "\n",
       "    .dataframe tbody tr th {\n",
       "        vertical-align: top;\n",
       "    }\n",
       "\n",
       "    .dataframe thead th {\n",
       "        text-align: right;\n",
       "    }\n",
       "</style>\n",
       "<table border=\"1\" class=\"dataframe\">\n",
       "  <thead>\n",
       "    <tr style=\"text-align: right;\">\n",
       "      <th></th>\n",
       "      <th>age</th>\n",
       "      <th>sex</th>\n",
       "      <th>bmi</th>\n",
       "      <th>children</th>\n",
       "      <th>smoker</th>\n",
       "      <th>region</th>\n",
       "      <th>charges</th>\n",
       "    </tr>\n",
       "  </thead>\n",
       "  <tbody>\n",
       "    <tr>\n",
       "      <th>0</th>\n",
       "      <td>19</td>\n",
       "      <td>female</td>\n",
       "      <td>27.900</td>\n",
       "      <td>0</td>\n",
       "      <td>yes</td>\n",
       "      <td>southwest</td>\n",
       "      <td>16884.92400</td>\n",
       "    </tr>\n",
       "    <tr>\n",
       "      <th>1</th>\n",
       "      <td>18</td>\n",
       "      <td>male</td>\n",
       "      <td>33.770</td>\n",
       "      <td>1</td>\n",
       "      <td>no</td>\n",
       "      <td>southeast</td>\n",
       "      <td>1725.55230</td>\n",
       "    </tr>\n",
       "    <tr>\n",
       "      <th>2</th>\n",
       "      <td>28</td>\n",
       "      <td>male</td>\n",
       "      <td>33.000</td>\n",
       "      <td>3</td>\n",
       "      <td>no</td>\n",
       "      <td>southeast</td>\n",
       "      <td>4449.46200</td>\n",
       "    </tr>\n",
       "    <tr>\n",
       "      <th>3</th>\n",
       "      <td>33</td>\n",
       "      <td>male</td>\n",
       "      <td>22.705</td>\n",
       "      <td>0</td>\n",
       "      <td>no</td>\n",
       "      <td>northwest</td>\n",
       "      <td>21984.47061</td>\n",
       "    </tr>\n",
       "    <tr>\n",
       "      <th>4</th>\n",
       "      <td>32</td>\n",
       "      <td>male</td>\n",
       "      <td>28.880</td>\n",
       "      <td>0</td>\n",
       "      <td>no</td>\n",
       "      <td>northwest</td>\n",
       "      <td>3866.85520</td>\n",
       "    </tr>\n",
       "  </tbody>\n",
       "</table>\n",
       "</div>"
      ],
      "text/plain": [
       "   age     sex     bmi  children smoker     region      charges\n",
       "0   19  female  27.900         0    yes  southwest  16884.92400\n",
       "1   18    male  33.770         1     no  southeast   1725.55230\n",
       "2   28    male  33.000         3     no  southeast   4449.46200\n",
       "3   33    male  22.705         0     no  northwest  21984.47061\n",
       "4   32    male  28.880         0     no  northwest   3866.85520"
      ]
     },
     "execution_count": 4,
     "metadata": {},
     "output_type": "execute_result"
    }
   ],
   "source": [
    "#First 5 rows\n",
    "insurance.head()"
   ]
  },
  {
   "cell_type": "code",
   "execution_count": 5,
   "id": "6f235558",
   "metadata": {},
   "outputs": [
    {
     "name": "stdout",
     "output_type": "stream",
     "text": [
      "<class 'pandas.core.frame.DataFrame'>\n",
      "RangeIndex: 1338 entries, 0 to 1337\n",
      "Data columns (total 7 columns):\n",
      " #   Column    Non-Null Count  Dtype  \n",
      "---  ------    --------------  -----  \n",
      " 0   age       1338 non-null   int64  \n",
      " 1   sex       1338 non-null   object \n",
      " 2   bmi       1338 non-null   float64\n",
      " 3   children  1338 non-null   int64  \n",
      " 4   smoker    1338 non-null   object \n",
      " 5   region    1338 non-null   object \n",
      " 6   charges   1338 non-null   float64\n",
      "dtypes: float64(2), int64(2), object(3)\n",
      "memory usage: 73.3+ KB\n"
     ]
    }
   ],
   "source": [
    "#Datatype and count of values for each dimension\n",
    "insurance.info()"
   ]
  },
  {
   "cell_type": "code",
   "execution_count": 6,
   "id": "0978c606",
   "metadata": {},
   "outputs": [
    {
     "data": {
      "text/html": [
       "<div>\n",
       "<style scoped>\n",
       "    .dataframe tbody tr th:only-of-type {\n",
       "        vertical-align: middle;\n",
       "    }\n",
       "\n",
       "    .dataframe tbody tr th {\n",
       "        vertical-align: top;\n",
       "    }\n",
       "\n",
       "    .dataframe thead th {\n",
       "        text-align: right;\n",
       "    }\n",
       "</style>\n",
       "<table border=\"1\" class=\"dataframe\">\n",
       "  <thead>\n",
       "    <tr style=\"text-align: right;\">\n",
       "      <th></th>\n",
       "      <th>age</th>\n",
       "      <th>bmi</th>\n",
       "      <th>children</th>\n",
       "      <th>charges</th>\n",
       "    </tr>\n",
       "  </thead>\n",
       "  <tbody>\n",
       "    <tr>\n",
       "      <th>count</th>\n",
       "      <td>1338.000000</td>\n",
       "      <td>1338.000000</td>\n",
       "      <td>1338.000000</td>\n",
       "      <td>1338.000000</td>\n",
       "    </tr>\n",
       "    <tr>\n",
       "      <th>mean</th>\n",
       "      <td>39.207025</td>\n",
       "      <td>30.663397</td>\n",
       "      <td>1.094918</td>\n",
       "      <td>13270.422265</td>\n",
       "    </tr>\n",
       "    <tr>\n",
       "      <th>std</th>\n",
       "      <td>14.049960</td>\n",
       "      <td>6.098187</td>\n",
       "      <td>1.205493</td>\n",
       "      <td>12110.011237</td>\n",
       "    </tr>\n",
       "    <tr>\n",
       "      <th>min</th>\n",
       "      <td>18.000000</td>\n",
       "      <td>15.960000</td>\n",
       "      <td>0.000000</td>\n",
       "      <td>1121.873900</td>\n",
       "    </tr>\n",
       "    <tr>\n",
       "      <th>25%</th>\n",
       "      <td>27.000000</td>\n",
       "      <td>26.296250</td>\n",
       "      <td>0.000000</td>\n",
       "      <td>4740.287150</td>\n",
       "    </tr>\n",
       "    <tr>\n",
       "      <th>50%</th>\n",
       "      <td>39.000000</td>\n",
       "      <td>30.400000</td>\n",
       "      <td>1.000000</td>\n",
       "      <td>9382.033000</td>\n",
       "    </tr>\n",
       "    <tr>\n",
       "      <th>75%</th>\n",
       "      <td>51.000000</td>\n",
       "      <td>34.693750</td>\n",
       "      <td>2.000000</td>\n",
       "      <td>16639.912515</td>\n",
       "    </tr>\n",
       "    <tr>\n",
       "      <th>max</th>\n",
       "      <td>64.000000</td>\n",
       "      <td>53.130000</td>\n",
       "      <td>5.000000</td>\n",
       "      <td>63770.428010</td>\n",
       "    </tr>\n",
       "  </tbody>\n",
       "</table>\n",
       "</div>"
      ],
      "text/plain": [
       "               age          bmi     children       charges\n",
       "count  1338.000000  1338.000000  1338.000000   1338.000000\n",
       "mean     39.207025    30.663397     1.094918  13270.422265\n",
       "std      14.049960     6.098187     1.205493  12110.011237\n",
       "min      18.000000    15.960000     0.000000   1121.873900\n",
       "25%      27.000000    26.296250     0.000000   4740.287150\n",
       "50%      39.000000    30.400000     1.000000   9382.033000\n",
       "75%      51.000000    34.693750     2.000000  16639.912515\n",
       "max      64.000000    53.130000     5.000000  63770.428010"
      ]
     },
     "execution_count": 6,
     "metadata": {},
     "output_type": "execute_result"
    }
   ],
   "source": [
    "#Measures of central value and quartiles for each each dimension\n",
    "insurance.describe()"
   ]
  },
  {
   "cell_type": "code",
   "execution_count": 7,
   "id": "61f9eda6",
   "metadata": {},
   "outputs": [
    {
     "data": {
      "text/plain": [
       "age         0\n",
       "sex         0\n",
       "bmi         0\n",
       "children    0\n",
       "smoker      0\n",
       "region      0\n",
       "charges     0\n",
       "dtype: int64"
      ]
     },
     "execution_count": 7,
     "metadata": {},
     "output_type": "execute_result"
    }
   ],
   "source": [
    "#checking number of null values\n",
    "insurance.isnull().sum() #No null values present"
   ]
  },
  {
   "cell_type": "markdown",
   "id": "945dab23",
   "metadata": {},
   "source": [
    "# Graphical Representation"
   ]
  },
  {
   "cell_type": "code",
   "execution_count": 8,
   "id": "8b066324",
   "metadata": {},
   "outputs": [
    {
     "data": {
      "text/plain": [
       "Text(0, 0.5, 'Charges in $')"
      ]
     },
     "execution_count": 8,
     "metadata": {},
     "output_type": "execute_result"
    },
    {
     "data": {
      "image/png": "[encoded data removed]",
      "text/plain": [
       "<Figure size 1080x432 with 1 Axes>"
      ]
     },
     "metadata": {
      "needs_background": "light"
     },
     "output_type": "display_data"
    }
   ],
   "source": [
    "#intiating barplot for age and claim charges\n",
    "fig = plt.figure(figsize = (15, 6))\n",
    "sns.barplot(y = 'charges', x = 'age', data = insurance, ci = None, color = 'red')\n",
    "plt.xlabel(\"Age\", size=12)\n",
    "plt.ylabel(\"Charges in $\", size=12)"
   ]
  },
  {
   "cell_type": "code",
   "execution_count": 9,
   "id": "97d9db04",
   "metadata": {},
   "outputs": [
    {
     "data": {
      "text/plain": [
       "Text(0, 0.5, 'Charges in $')"
      ]
     },
     "execution_count": 9,
     "metadata": {},
     "output_type": "execute_result"
    },
    {
     "data": {
      "image/png": "[encoded data removed]",
      "text/plain": [
       "<Figure size 720x288 with 1 Axes>"
      ]
     },
     "metadata": {
      "needs_background": "light"
     },
     "output_type": "display_data"
    }
   ],
   "source": [
    "#intiating barplot for sex and claim charges\n",
    "fig = plt.figure(figsize = (10, 4))\n",
    "sns.barplot(y = 'charges',  x = 'sex', data = insurance, ci = None)\n",
    "plt.xlabel(\"sex\", size=10)\n",
    "plt.ylabel(\"Charges in $\", size=10)"
   ]
  },
  {
   "cell_type": "code",
   "execution_count": 10,
   "id": "4ad3b1a2",
   "metadata": {},
   "outputs": [
    {
     "data": {
      "text/plain": [
       "(15.96, 53.13)"
      ]
     },
     "execution_count": 10,
     "metadata": {},
     "output_type": "execute_result"
    }
   ],
   "source": [
    "#Judging range for BMI dimension\n",
    "min(insurance.bmi), max(insurance.bmi)\n",
    "(15.96, 53.13)"
   ]
  },
  {
   "cell_type": "code",
   "execution_count": 11,
   "id": "9777f433",
   "metadata": {},
   "outputs": [
    {
     "data": {
      "text/html": [
       "<div>\n",
       "<style scoped>\n",
       "    .dataframe tbody tr th:only-of-type {\n",
       "        vertical-align: middle;\n",
       "    }\n",
       "\n",
       "    .dataframe tbody tr th {\n",
       "        vertical-align: top;\n",
       "    }\n",
       "\n",
       "    .dataframe thead th {\n",
       "        text-align: right;\n",
       "    }\n",
       "</style>\n",
       "<table border=\"1\" class=\"dataframe\">\n",
       "  <thead>\n",
       "    <tr style=\"text-align: right;\">\n",
       "      <th></th>\n",
       "      <th>age</th>\n",
       "      <th>sex</th>\n",
       "      <th>bmi</th>\n",
       "      <th>children</th>\n",
       "      <th>smoker</th>\n",
       "      <th>region</th>\n",
       "      <th>charges</th>\n",
       "      <th>bmiclass</th>\n",
       "    </tr>\n",
       "  </thead>\n",
       "  <tbody>\n",
       "    <tr>\n",
       "      <th>0</th>\n",
       "      <td>19</td>\n",
       "      <td>female</td>\n",
       "      <td>27.900</td>\n",
       "      <td>0</td>\n",
       "      <td>yes</td>\n",
       "      <td>southwest</td>\n",
       "      <td>16884.92400</td>\n",
       "      <td>3.0</td>\n",
       "    </tr>\n",
       "    <tr>\n",
       "      <th>1</th>\n",
       "      <td>18</td>\n",
       "      <td>male</td>\n",
       "      <td>33.770</td>\n",
       "      <td>1</td>\n",
       "      <td>no</td>\n",
       "      <td>southeast</td>\n",
       "      <td>1725.55230</td>\n",
       "      <td>4.0</td>\n",
       "    </tr>\n",
       "    <tr>\n",
       "      <th>2</th>\n",
       "      <td>28</td>\n",
       "      <td>male</td>\n",
       "      <td>33.000</td>\n",
       "      <td>3</td>\n",
       "      <td>no</td>\n",
       "      <td>southeast</td>\n",
       "      <td>4449.46200</td>\n",
       "      <td>3.0</td>\n",
       "    </tr>\n",
       "    <tr>\n",
       "      <th>3</th>\n",
       "      <td>33</td>\n",
       "      <td>male</td>\n",
       "      <td>22.705</td>\n",
       "      <td>0</td>\n",
       "      <td>no</td>\n",
       "      <td>northwest</td>\n",
       "      <td>21984.47061</td>\n",
       "      <td>2.0</td>\n",
       "    </tr>\n",
       "    <tr>\n",
       "      <th>4</th>\n",
       "      <td>32</td>\n",
       "      <td>male</td>\n",
       "      <td>28.880</td>\n",
       "      <td>0</td>\n",
       "      <td>no</td>\n",
       "      <td>northwest</td>\n",
       "      <td>3866.85520</td>\n",
       "      <td>3.0</td>\n",
       "    </tr>\n",
       "  </tbody>\n",
       "</table>\n",
       "</div>"
      ],
      "text/plain": [
       "   age     sex     bmi  children smoker     region      charges  bmiclass\n",
       "0   19  female  27.900         0    yes  southwest  16884.92400       3.0\n",
       "1   18    male  33.770         1     no  southeast   1725.55230       4.0\n",
       "2   28    male  33.000         3     no  southeast   4449.46200       3.0\n",
       "3   33    male  22.705         0     no  northwest  21984.47061       2.0\n",
       "4   32    male  28.880         0     no  northwest   3866.85520       3.0"
      ]
     },
     "execution_count": 11,
     "metadata": {},
     "output_type": "execute_result"
    }
   ],
   "source": [
    "#Classifying BMI into classes\n",
    "insurance[\"bmiclass\"] = insurance.bmi\n",
    "insurance.bmiclass = insurance.bmi.round()\n",
    "insurance.head(5)\n",
    "insurance['bmiclass'] = insurance['bmiclass'].replace([16, 17, 18, 19, 20, 21], 1)\n",
    "insurance['bmiclass'] = insurance['bmiclass'].replace([22, 23, 24, 25, 26, 27], 2)\n",
    "insurance['bmiclass'] = insurance['bmiclass'].replace([28, 29, 30, 31, 32, 33], 3)\n",
    "insurance['bmiclass'] = insurance['bmiclass'].replace([34, 35, 36, 37, 38, 39], 4)\n",
    "insurance['bmiclass'] = insurance['bmiclass'].replace([40, 41, 42, 43, 44, 45], 5)\n",
    "insurance['bmiclass'] = insurance['bmiclass'].replace([46, 47, 48, 49, 50, 51, 52, 53], 6)\n",
    "insurance.head(5)"
   ]
  },
  {
   "cell_type": "code",
   "execution_count": 12,
   "id": "6d4bad27",
   "metadata": {},
   "outputs": [
    {
     "data": {
      "text/plain": [
       "Text(0, 0.5, 'Claim Charges ($)')"
      ]
     },
     "execution_count": 12,
     "metadata": {},
     "output_type": "execute_result"
    },
    {
     "data": {
      "image/png": "[encoded data removed]",
      "text/plain": [
       "<Figure size 432x288 with 1 Axes>"
      ]
     },
     "metadata": {
      "needs_background": "light"
     },
     "output_type": "display_data"
    }
   ],
   "source": [
    "#Initialting barplot for BMIClass and Charges\n",
    "fig = plt.figure(figsize = (6,4))\n",
    "sns.barplot(y = 'charges', x = 'bmiclass', data = insurance, ci = None, color = 'blue')\n",
    "plt.xticks(ticks=[0, 1, 2, 3, 4, 5], labels = [\"16 - 21\", \"22 - 27\", \"28 - 33\", \"34 - 39\", \"40 - 45\", \"46 - 53\"]) \n",
    "# set labels\n",
    "\n",
    "plt.xlabel(\"Body Mass Index\", size=12)\n",
    "plt.ylabel(\"Claim Charges ($)\", size=12)"
   ]
  },
  {
   "cell_type": "code",
   "execution_count": 13,
   "id": "21b808bb",
   "metadata": {},
   "outputs": [
    {
     "data": {
      "text/plain": [
       "Text(0, 0.5, 'Claim Charges ($)')"
      ]
     },
     "execution_count": 13,
     "metadata": {},
     "output_type": "execute_result"
    },
    {
     "data": {
      "image/png": "[encoded data removed]",
      "text/plain": [
       "<Figure size 432x288 with 1 Axes>"
      ]
     },
     "metadata": {
      "needs_background": "light"
     },
     "output_type": "display_data"
    }
   ],
   "source": [
    "#intiating barplot for children and claim charges\n",
    "fig = plt.figure(figsize = (6,4))\n",
    "sns.barplot(y = 'charges', x = 'children', data = insurance,ci = None)\n",
    "plt.xlabel(\"Number of Children\", size=12)\n",
    "plt.ylabel(\"Claim Charges ($)\", size=12)"
   ]
  },
  {
   "cell_type": "code",
   "execution_count": 14,
   "id": "6c21efba",
   "metadata": {},
   "outputs": [
    {
     "data": {
      "text/plain": [
       "Text(0, 0.5, 'Claim Charges ($)')"
      ]
     },
     "execution_count": 14,
     "metadata": {},
     "output_type": "execute_result"
    },
    {
     "data": {
      "image/png": "[encoded data removed]",
      "text/plain": [
       "<Figure size 432x288 with 1 Axes>"
      ]
     },
     "metadata": {
      "needs_background": "light"
     },
     "output_type": "display_data"
    }
   ],
   "source": [
    "#intiating barplot for smoker and claim charges\n",
    "fig = plt.figure(figsize = (6,4))\n",
    "sns.barplot(y = 'charges', x = 'smoker', data = insurance, ci = None)\n",
    "plt.xlabel(\"Smoker\", size=12)\n",
    "plt.ylabel(\"Claim Charges ($)\", size=12)"
   ]
  },
  {
   "cell_type": "code",
   "execution_count": 15,
   "id": "4faf36dd",
   "metadata": {},
   "outputs": [
    {
     "data": {
      "text/plain": [
       "Text(0, 0.5, 'Claim Charges ($)')"
      ]
     },
     "execution_count": 15,
     "metadata": {},
     "output_type": "execute_result"
    },
    {
     "data": {
      "image/png": "[encoded data removed]",
      "text/plain": [
       "<Figure size 432x288 with 1 Axes>"
      ]
     },
     "metadata": {
      "needs_background": "light"
     },
     "output_type": "display_data"
    }
   ],
   "source": [
    "#intiating barplot for Region and claim charges\n",
    "fig = plt.figure(figsize = (6,4))\n",
    "sns.barplot(y = 'charges', x = 'region', data = insurance, ci = None)\n",
    "plt.xticks(ticks=[0, 1, 2, 3], labels = [\"Northeast\", \"Northwest\", \"Southeast\", \"Southwest\"]) \n",
    "plt.xlabel(\"Region\", size=12)\n",
    "plt.ylabel(\"Claim Charges ($)\", size=12)"
   ]
  },
  {
   "cell_type": "code",
   "execution_count": 16,
   "id": "1e003cd4",
   "metadata": {},
   "outputs": [
    {
     "data": {
      "text/plain": [
       "(1121.8739, 63770.42801)"
      ]
     },
     "execution_count": 16,
     "metadata": {},
     "output_type": "execute_result"
    }
   ],
   "source": [
    "#Judging range for charges dimension\n",
    "m = min(insurance.charges)\n",
    "n = max(insurance.charges)\n",
    "m, n"
   ]
  },
  {
   "cell_type": "code",
   "execution_count": 17,
   "id": "a372e749",
   "metadata": {},
   "outputs": [
    {
     "data": {
      "text/plain": [
       "<AxesSubplot:xlabel='charges', ylabel='Count'>"
      ]
     },
     "execution_count": 17,
     "metadata": {},
     "output_type": "execute_result"
    },
    {
     "data": {
      "image/png": "[encoded data removed]",
      "text/plain": [
       "<Figure size 432x288 with 1 Axes>"
      ]
     },
     "metadata": {
      "needs_background": "light"
     },
     "output_type": "display_data"
    }
   ],
   "source": [
    "#Imitiating histogram for charges\n",
    "plt.figure(figsize=(6, 4))\n",
    "sns.histplot(insurance['charges'])\n",
    "\n",
    "#Histogram is skewed"
   ]
  },
  {
   "cell_type": "code",
   "execution_count": 18,
   "id": "2e826e61",
   "metadata": {},
   "outputs": [
    {
     "data": {
      "text/html": [
       "<div>\n",
       "<style scoped>\n",
       "    .dataframe tbody tr th:only-of-type {\n",
       "        vertical-align: middle;\n",
       "    }\n",
       "\n",
       "    .dataframe tbody tr th {\n",
       "        vertical-align: top;\n",
       "    }\n",
       "\n",
       "    .dataframe thead th {\n",
       "        text-align: right;\n",
       "    }\n",
       "</style>\n",
       "<table border=\"1\" class=\"dataframe\">\n",
       "  <thead>\n",
       "    <tr style=\"text-align: right;\">\n",
       "      <th></th>\n",
       "      <th>age</th>\n",
       "      <th>sex</th>\n",
       "      <th>bmi</th>\n",
       "      <th>children</th>\n",
       "      <th>smoker</th>\n",
       "      <th>region</th>\n",
       "      <th>charges</th>\n",
       "      <th>bmiclass</th>\n",
       "    </tr>\n",
       "  </thead>\n",
       "  <tbody>\n",
       "    <tr>\n",
       "      <th>0</th>\n",
       "      <td>19</td>\n",
       "      <td>female</td>\n",
       "      <td>27.900</td>\n",
       "      <td>0</td>\n",
       "      <td>yes</td>\n",
       "      <td>southwest</td>\n",
       "      <td>0.251611</td>\n",
       "      <td>3.0</td>\n",
       "    </tr>\n",
       "    <tr>\n",
       "      <th>1</th>\n",
       "      <td>18</td>\n",
       "      <td>male</td>\n",
       "      <td>33.770</td>\n",
       "      <td>1</td>\n",
       "      <td>no</td>\n",
       "      <td>southeast</td>\n",
       "      <td>0.009636</td>\n",
       "      <td>4.0</td>\n",
       "    </tr>\n",
       "    <tr>\n",
       "      <th>2</th>\n",
       "      <td>28</td>\n",
       "      <td>male</td>\n",
       "      <td>33.000</td>\n",
       "      <td>3</td>\n",
       "      <td>no</td>\n",
       "      <td>southeast</td>\n",
       "      <td>0.053115</td>\n",
       "      <td>3.0</td>\n",
       "    </tr>\n",
       "    <tr>\n",
       "      <th>3</th>\n",
       "      <td>33</td>\n",
       "      <td>male</td>\n",
       "      <td>22.705</td>\n",
       "      <td>0</td>\n",
       "      <td>no</td>\n",
       "      <td>northwest</td>\n",
       "      <td>0.333010</td>\n",
       "      <td>2.0</td>\n",
       "    </tr>\n",
       "    <tr>\n",
       "      <th>4</th>\n",
       "      <td>32</td>\n",
       "      <td>male</td>\n",
       "      <td>28.880</td>\n",
       "      <td>0</td>\n",
       "      <td>no</td>\n",
       "      <td>northwest</td>\n",
       "      <td>0.043816</td>\n",
       "      <td>3.0</td>\n",
       "    </tr>\n",
       "  </tbody>\n",
       "</table>\n",
       "</div>"
      ],
      "text/plain": [
       "   age     sex     bmi  children smoker     region   charges  bmiclass\n",
       "0   19  female  27.900         0    yes  southwest  0.251611       3.0\n",
       "1   18    male  33.770         1     no  southeast  0.009636       4.0\n",
       "2   28    male  33.000         3     no  southeast  0.053115       3.0\n",
       "3   33    male  22.705         0     no  northwest  0.333010       2.0\n",
       "4   32    male  28.880         0     no  northwest  0.043816       3.0"
      ]
     },
     "execution_count": 18,
     "metadata": {},
     "output_type": "execute_result"
    }
   ],
   "source": [
    "#Using min and max scaling in sklearn to normalize the charges\n",
    "column = 'charges'\n",
    "insurance[column] = (insurance[column] - insurance[column].min()) / (insurance[column].max() - insurance[column].min())\n",
    "insurance.head()"
   ]
  },
  {
   "cell_type": "markdown",
   "id": "8e46a747",
   "metadata": {},
   "source": [
    "# Selection of Significant Feature"
   ]
  },
  {
   "cell_type": "code",
   "execution_count": 19,
   "id": "8279065b",
   "metadata": {},
   "outputs": [],
   "source": [
    "#Converting categorical data into numerical data using one hot encoding\n",
    "from sklearn import preprocessing\n",
    "le = preprocessing.LabelEncoder()\n",
    "insurance[\"sex\"] = le.fit_transform(insurance[\"sex\"])       # 0 = female, 1 = male\n",
    "insurance[\"smoker\"] = le.fit_transform(insurance[\"smoker\"]) # 1 = smoker, 2 = non-smoker\n",
    "insurance[\"region\"] = le.fit_transform(insurance[\"region\"]) # 1 = northwest, 2 = southeast, 3 = southwest, 4 = northeast"
   ]
  },
  {
   "cell_type": "code",
   "execution_count": 20,
   "id": "d9b48deb",
   "metadata": {},
   "outputs": [
    {
     "data": {
      "text/plain": [
       "<AxesSubplot:>"
      ]
     },
     "execution_count": 20,
     "metadata": {},
     "output_type": "execute_result"
    },
    {
     "data": {
      "image/png": "[encoded data removed]",
      "text/plain": [
       "<Figure size 1080x432 with 2 Axes>"
      ]
     },
     "metadata": {
      "needs_background": "light"
     },
     "output_type": "display_data"
    }
   ],
   "source": [
    "plt.figure(figsize=(15,6))  \n",
    "sns.heatmap(insurance.corr(), annot=True, fmt='.0%', cmap='Reds')"
   ]
  },
  {
   "cell_type": "code",
   "execution_count": 21,
   "id": "b7f4f721",
   "metadata": {},
   "outputs": [],
   "source": [
    "#Since sex and reagion dimension/columns are categorical in nature, we wont be able to put in much of use for it so we will be dropping these column\n",
    "insurance.drop(['sex', 'region', 'bmiclass'], axis=1, inplace=True)"
   ]
  },
  {
   "cell_type": "code",
   "execution_count": 22,
   "id": "0b79a7b0",
   "metadata": {},
   "outputs": [],
   "source": [
    "x_data = insurance.drop('charges', axis = 1)\n",
    "y_data = insurance['charges']"
   ]
  },
  {
   "cell_type": "code",
   "execution_count": 23,
   "id": "27b6022b",
   "metadata": {},
   "outputs": [],
   "source": [
    "# Spliting data into train and test data"
   ]
  },
  {
   "cell_type": "code",
   "execution_count": 24,
   "id": "0964833f",
   "metadata": {},
   "outputs": [],
   "source": [
    "x_training_data, x_test_data, y_training_data, y_test_data = train_test_split(x_data, y_data, test_size = 0.25, random_state=42)"
   ]
  },
  {
   "cell_type": "code",
   "execution_count": 25,
   "id": "6cd54514",
   "metadata": {},
   "outputs": [],
   "source": [
    "sc = StandardScaler()\n",
    "x_training_data = pd.DataFrame(sc.fit_transform(x_training_data),columns=x_data.columns)\n",
    "x_test_data = pd.DataFrame(sc.fit_transform(x_test_data),columns=x_data.columns)"
   ]
  },
  {
   "cell_type": "markdown",
   "id": "1e491f64",
   "metadata": {},
   "source": [
    "# Model 1: Linear Regression Model"
   ]
  },
  {
   "cell_type": "code",
   "execution_count": 26,
   "id": "96e6ba23",
   "metadata": {},
   "outputs": [],
   "source": [
    "#Linear Regression\n",
    "# Create model object. \n",
    "model_lr = LinearRegression()\n",
    "# Train the model on the training data.\n",
    "model_lr.fit(x_training_data, y_training_data)\n",
    "# Make predictions on the test data. \n",
    "predictions_lr = model_lr.predict(x_test_data)"
   ]
  },
  {
   "cell_type": "code",
   "execution_count": 27,
   "id": "3a8469a8",
   "metadata": {},
   "outputs": [
    {
     "name": "stdout",
     "output_type": "stream",
     "text": [
      "R2 score : 0.7656830523004188\n"
     ]
    }
   ],
   "source": [
    "r2_lr = r2_score(y_test_data, predictions_lr)\n",
    "print(\"R2 score :\", r2_lr)"
   ]
  },
  {
   "cell_type": "code",
   "execution_count": 28,
   "id": "4ecac994",
   "metadata": {},
   "outputs": [
    {
     "name": "stdout",
     "output_type": "stream",
     "text": [
      "0.0949123371964687\n"
     ]
    }
   ],
   "source": [
    "rmse = np.sqrt(np.mean(((predictions_lr - y_test_data)**2)))\n",
    "print(rmse)"
   ]
  },
  {
   "cell_type": "code",
   "execution_count": 29,
   "id": "a78feae5",
   "metadata": {},
   "outputs": [],
   "source": [
    "#RMSE shows that linear regression model has a typical prediction error of .09, which is good."
   ]
  },
  {
   "cell_type": "markdown",
   "id": "56d3c2ec",
   "metadata": {},
   "source": [
    "# Model 2:Random Forest Model"
   ]
  },
  {
   "cell_type": "code",
   "execution_count": 30,
   "id": "145a24f6",
   "metadata": {},
   "outputs": [],
   "source": [
    "# Create model object. \n",
    "model_rf = RandomForestRegressor(n_estimators = 10, random_state = 0)\n",
    "# Train the model on the training data.\n",
    "model_rf.fit(x_training_data, y_training_data)\n",
    "# Make predictions on the test data. \n",
    "predictions_rf = model_rf.predict(x_test_data)"
   ]
  },
  {
   "cell_type": "code",
   "execution_count": 31,
   "id": "2becf04a",
   "metadata": {},
   "outputs": [
    {
     "name": "stdout",
     "output_type": "stream",
     "text": [
      "R2 Score : 0.8230230541174343\n"
     ]
    }
   ],
   "source": [
    "# Calculate the R2 score.\n",
    "r2_rf = r2_score(y_test_data, predictions_rf)\n",
    "print(\"R2 Score :\", r2_rf)"
   ]
  },
  {
   "cell_type": "code",
   "execution_count": 32,
   "id": "9b9be5f4",
   "metadata": {},
   "outputs": [
    {
     "name": "stdout",
     "output_type": "stream",
     "text": [
      "0.08248579515212681\n"
     ]
    }
   ],
   "source": [
    "rmse = np.sqrt(np.mean(((predictions_rf - y_test_data)**2)))\n",
    "print(rmse)"
   ]
  },
  {
   "cell_type": "code",
   "execution_count": 33,
   "id": "b86c460d",
   "metadata": {},
   "outputs": [],
   "source": [
    "#The RMSE shows that the random forest model has a typical prediction error of .08, which is very good."
   ]
  },
  {
   "cell_type": "markdown",
   "id": "b348fa3a",
   "metadata": {},
   "source": [
    "# Accuracy scores"
   ]
  },
  {
   "cell_type": "code",
   "execution_count": 35,
   "id": "0bf78a7c",
   "metadata": {},
   "outputs": [],
   "source": [
    "models = pd.DataFrame({\n",
    "    'Model':['Linear Regression', 'Random Forrest'],\n",
    "    'Accuracy_score' :[r2_lr, r2_rf]\n",
    "})\n"
   ]
  },
  {
   "cell_type": "code",
   "execution_count": 36,
   "id": "2fb03bf9",
   "metadata": {},
   "outputs": [
    {
     "data": {
      "text/html": [
       "<div>\n",
       "<style scoped>\n",
       "    .dataframe tbody tr th:only-of-type {\n",
       "        vertical-align: middle;\n",
       "    }\n",
       "\n",
       "    .dataframe tbody tr th {\n",
       "        vertical-align: top;\n",
       "    }\n",
       "\n",
       "    .dataframe thead th {\n",
       "        text-align: right;\n",
       "    }\n",
       "</style>\n",
       "<table border=\"1\" class=\"dataframe\">\n",
       "  <thead>\n",
       "    <tr style=\"text-align: right;\">\n",
       "      <th></th>\n",
       "      <th>Model</th>\n",
       "      <th>Accuracy_score</th>\n",
       "    </tr>\n",
       "  </thead>\n",
       "  <tbody>\n",
       "    <tr>\n",
       "      <th>1</th>\n",
       "      <td>Random Forrest</td>\n",
       "      <td>0.823023</td>\n",
       "    </tr>\n",
       "    <tr>\n",
       "      <th>0</th>\n",
       "      <td>Linear Regression</td>\n",
       "      <td>0.765683</td>\n",
       "    </tr>\n",
       "  </tbody>\n",
       "</table>\n",
       "</div>"
      ],
      "text/plain": [
       "               Model  Accuracy_score\n",
       "1     Random Forrest        0.823023\n",
       "0  Linear Regression        0.765683"
      ]
     },
     "execution_count": 36,
     "metadata": {},
     "output_type": "execute_result"
    },
    {
     "data": {
      "image/png": "[encoded data removed]",
      "text/plain": [
       "<Figure size 432x288 with 1 Axes>"
      ]
     },
     "metadata": {
      "needs_background": "light"
     },
     "output_type": "display_data"
    }
   ],
   "source": [
    "sns.barplot(x='Accuracy_score', y='Model', data=models)\n",
    "\n",
    "models.sort_values(by='Accuracy_score', ascending=False)"
   ]
  },
  {
   "cell_type": "code",
   "execution_count": 37,
   "id": "dad0c1e1",
   "metadata": {},
   "outputs": [],
   "source": [
    "#Since Randome forrest regressor has the highest accuracy rate we will be trying to optimize the model through gridsearch"
   ]
  },
  {
   "cell_type": "code",
   "execution_count": 38,
   "id": "a91c8e35",
   "metadata": {},
   "outputs": [
    {
     "name": "stdout",
     "output_type": "stream",
     "text": [
      "2022-12-07 11:57:35.461399\n",
      "2022-12-07 12:00:11.451560\n"
     ]
    }
   ],
   "source": [
    "## Define Grid \n",
    "grid = { \n",
    "    'n_estimators': [200,300,400,500],\n",
    "    'max_features': ['sqrt','log2'],\n",
    "    'max_depth' : [3,4,5,6,7],\n",
    "    'random_state' : [18]\n",
    "}\n",
    "## show start time\n",
    "print(datetime.now())\n",
    "## Grid Search function\n",
    "CV_rfr = GridSearchCV(estimator=RandomForestRegressor(), param_grid=grid, cv= 5)\n",
    "CV_rfr.fit(x_training_data, y_training_data)\n",
    "\n",
    "## show end time\n",
    "print(datetime.now())"
   ]
  },
  {
   "cell_type": "markdown",
   "id": "95edabe2",
   "metadata": {},
   "source": [
    "# Re-running Random Forrest Regressor"
   ]
  },
  {
   "cell_type": "code",
   "execution_count": 39,
   "id": "e8c40cfb",
   "metadata": {},
   "outputs": [],
   "source": [
    "# Make predictions on the test data. \n",
    "predictions_rf = CV_rfr.predict(x_test_data)"
   ]
  },
  {
   "cell_type": "code",
   "execution_count": 40,
   "id": "7a13e9c0",
   "metadata": {},
   "outputs": [
    {
     "name": "stdout",
     "output_type": "stream",
     "text": [
      "R2 Score : 0.8654377300171289\n"
     ]
    }
   ],
   "source": [
    "r2 = r2_score(y_test_data, predictions_rf)\n",
    "print(\"R2 Score :\", r2)"
   ]
  },
  {
   "cell_type": "code",
   "execution_count": 41,
   "id": "da1a13ac",
   "metadata": {},
   "outputs": [
    {
     "name": "stdout",
     "output_type": "stream",
     "text": [
      "0.07192543044082186\n"
     ]
    }
   ],
   "source": [
    "rmse = np.sqrt(np.mean(((predictions_rf - y_test_data)**2)))\n",
    "print(rmse)"
   ]
  },
  {
   "cell_type": "code",
   "execution_count": 42,
   "id": "68a000dc",
   "metadata": {},
   "outputs": [
    {
     "data": {
      "text/html": [
       "<div>\n",
       "<style scoped>\n",
       "    .dataframe tbody tr th:only-of-type {\n",
       "        vertical-align: middle;\n",
       "    }\n",
       "\n",
       "    .dataframe tbody tr th {\n",
       "        vertical-align: top;\n",
       "    }\n",
       "\n",
       "    .dataframe thead th {\n",
       "        text-align: right;\n",
       "    }\n",
       "</style>\n",
       "<table border=\"1\" class=\"dataframe\">\n",
       "  <thead>\n",
       "    <tr style=\"text-align: right;\">\n",
       "      <th></th>\n",
       "      <th>Model</th>\n",
       "      <th>Accuracy_score</th>\n",
       "    </tr>\n",
       "  </thead>\n",
       "  <tbody>\n",
       "    <tr>\n",
       "      <th>1</th>\n",
       "      <td>Random Forrest</td>\n",
       "      <td>0.865438</td>\n",
       "    </tr>\n",
       "    <tr>\n",
       "      <th>0</th>\n",
       "      <td>Linear Regression</td>\n",
       "      <td>0.765683</td>\n",
       "    </tr>\n",
       "  </tbody>\n",
       "</table>\n",
       "</div>"
      ],
      "text/plain": [
       "               Model  Accuracy_score\n",
       "1     Random Forrest        0.865438\n",
       "0  Linear Regression        0.765683"
      ]
     },
     "execution_count": 42,
     "metadata": {},
     "output_type": "execute_result"
    },
    {
     "data": {
      "image/png": "[encoded data removed]",
      "text/plain": [
       "<Figure size 432x288 with 1 Axes>"
      ]
     },
     "metadata": {
      "needs_background": "light"
     },
     "output_type": "display_data"
    }
   ],
   "source": [
    "models = pd.DataFrame({\n",
    "    'Model':['Linear Regression', 'Random Forrest'],\n",
    "    'Accuracy_score' :[r2_lr, r2]\n",
    "})\n",
    "sns.barplot(x='Accuracy_score', y='Model', data=models)\n",
    "\n",
    "models.sort_values(by='Accuracy_score', ascending=False)"
   ]
  },
  {
   "cell_type": "code",
   "execution_count": 43,
   "id": "2b83b10f",
   "metadata": {},
   "outputs": [],
   "source": [
    "# a better R2 score indicates the model has improved after running Gridsearch"
   ]
  },
  {
   "cell_type": "code",
   "execution_count": 54,
   "id": "e425b58d",
   "metadata": {
    "scrolled": true
   },
   "outputs": [
    {
     "name": "stderr",
     "output_type": "stream",
     "text": [
      "C:\\Users\\Admin\\AppData\\Roaming\\Python\\Python39\\site-packages\\seaborn\\_decorators.py:36: FutureWarning: Pass the following variables as keyword args: x, y. From version 0.12, the only valid positional argument will be `data`, and passing other arguments without an explicit keyword will result in an error or misinterpretation.\n",
      "  warnings.warn(\n"
     ]
    },
    {
     "data": {
      "image/png": "[encoded data removed]",
      "text/plain": [
       "<Figure size 432x288 with 1 Axes>"
      ]
     },
     "metadata": {
      "needs_background": "light"
     },
     "output_type": "display_data"
    }
   ],
   "source": [
    "Y_max = x_training_data.max()\n",
    "Y_min = y_training_data.min()\n",
    "\n",
    "#ax = sns.scatterplot(mod1_res.fittedvalues, Y)\n",
    "ax = sns.scatterplot(CV_rfr.predict(x_training_data), y_training_data)\n",
    "ax.set_xlabel(\"Predicted value\")\n",
    "ax.set_ylabel(\"Observed value\")\n",
    "ax.set(ylim=(0, 1))\n",
    "ax.set(xlim=(0, 1))\n",
    "\n",
    "X_ref = Y_ref = np.linspace(Y_min, Y_max, 50)\n",
    "plt.plot(X_ref, Y_ref, color='red', linewidth=1)\n",
    "plt.show()"
   ]
  },
  {
   "cell_type": "code",
   "execution_count": 45,
   "id": "ab51155a",
   "metadata": {},
   "outputs": [
    {
     "name": "stdout",
     "output_type": "stream",
     "text": [
      "<class 'pandas.core.frame.DataFrame'>\n",
      "RangeIndex: 1338 entries, 0 to 1337\n",
      "Data columns (total 5 columns):\n",
      " #   Column    Non-Null Count  Dtype  \n",
      "---  ------    --------------  -----  \n",
      " 0   age       1338 non-null   int64  \n",
      " 1   bmi       1338 non-null   float64\n",
      " 2   children  1338 non-null   int64  \n",
      " 3   smoker    1338 non-null   int32  \n",
      " 4   charges   1338 non-null   float64\n",
      "dtypes: float64(2), int32(1), int64(2)\n",
      "memory usage: 47.2 KB\n"
     ]
    }
   ],
   "source": [
    "insurance.info()"
   ]
  },
  {
   "cell_type": "code",
   "execution_count": 46,
   "id": "a467103c",
   "metadata": {},
   "outputs": [],
   "source": [
    "x_test = [[19,27.9,0,1]]"
   ]
  },
  {
   "cell_type": "code",
   "execution_count": 47,
   "id": "57820b3b",
   "metadata": {},
   "outputs": [
    {
     "data": {
      "text/html": [
       "<div>\n",
       "<style scoped>\n",
       "    .dataframe tbody tr th:only-of-type {\n",
       "        vertical-align: middle;\n",
       "    }\n",
       "\n",
       "    .dataframe tbody tr th {\n",
       "        vertical-align: top;\n",
       "    }\n",
       "\n",
       "    .dataframe thead th {\n",
       "        text-align: right;\n",
       "    }\n",
       "</style>\n",
       "<table border=\"1\" class=\"dataframe\">\n",
       "  <thead>\n",
       "    <tr style=\"text-align: right;\">\n",
       "      <th></th>\n",
       "      <th>age</th>\n",
       "      <th>bmi</th>\n",
       "      <th>children</th>\n",
       "      <th>smoker</th>\n",
       "    </tr>\n",
       "  </thead>\n",
       "  <tbody>\n",
       "    <tr>\n",
       "      <th>0</th>\n",
       "      <td>19</td>\n",
       "      <td>27.9</td>\n",
       "      <td>0</td>\n",
       "      <td>1</td>\n",
       "    </tr>\n",
       "  </tbody>\n",
       "</table>\n",
       "</div>"
      ],
      "text/plain": [
       "   age   bmi  children  smoker\n",
       "0   19  27.9         0       1"
      ]
     },
     "execution_count": 47,
     "metadata": {},
     "output_type": "execute_result"
    }
   ],
   "source": [
    "xdf = pd.DataFrame(x_test,columns = x_test_data.columns)\n",
    "xdf"
   ]
  },
  {
   "cell_type": "code",
   "execution_count": 48,
   "id": "79c32a8d",
   "metadata": {},
   "outputs": [
    {
     "data": {
      "text/plain": [
       "array([46745.77469253])"
      ]
     },
     "execution_count": 48,
     "metadata": {},
     "output_type": "execute_result"
    }
   ],
   "source": [
    "CV_rfr.predict(xdf) * (n-m) + m"
   ]
  }
 ],
 "metadata": {
  "kernelspec": {
   "display_name": "Python 3 (ipykernel)",
   "language": "python",
   "name": "python3"
  },
  "language_info": {
   "codemirror_mode": {
    "name": "ipython",
    "version": 3
   },
   "file_extension": ".py",
   "mimetype": "text/x-python",
   "name": "python",
   "nbconvert_exporter": "python",
   "pygments_lexer": "ipython3",
   "version": "3.9.12"
  }
 },
 "nbformat": 4,
 "nbformat_minor": 5
}
